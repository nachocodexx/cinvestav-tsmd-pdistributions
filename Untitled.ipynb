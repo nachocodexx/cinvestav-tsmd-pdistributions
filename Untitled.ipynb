{
 "cells": [
  {
   "cell_type": "code",
   "execution_count": 2,
   "id": "medical-ideal",
   "metadata": {},
   "outputs": [],
   "source": [
    "import numpy as np\n",
    "import pandas as pd\n",
    "import matplotlib.pyplot as plt\n",
    "from scipy.stats import binom"
   ]
  },
  {
   "cell_type": "markdown",
   "id": "soviet-franchise",
   "metadata": {},
   "source": [
    "## Binomial distributions"
   ]
  },
  {
   "cell_type": "code",
   "execution_count": 16,
   "id": "senior-debut",
   "metadata": {},
   "outputs": [
    {
     "data": {
      "text/plain": [
       "0.24609375000000025"
      ]
     },
     "execution_count": 16,
     "metadata": {},
     "output_type": "execute_result"
    }
   ],
   "source": [
    "binom.pmf(5,10,0.5)"
   ]
  },
  {
   "cell_type": "markdown",
   "id": "separate-shadow",
   "metadata": {},
   "source": [
    "## Multinomial distributions"
   ]
  },
  {
   "cell_type": "code",
   "execution_count": null,
   "id": "organizational-worth",
   "metadata": {},
   "outputs": [],
   "source": []
  },
  {
   "cell_type": "markdown",
   "id": "numerous-joining",
   "metadata": {},
   "source": [
    " ## Poisson distribution"
   ]
  },
  {
   "cell_type": "code",
   "execution_count": null,
   "id": "closing-shelf",
   "metadata": {},
   "outputs": [],
   "source": []
  },
  {
   "cell_type": "markdown",
   "id": "geological-million",
   "metadata": {},
   "source": [
    "## Gaussian distribution"
   ]
  },
  {
   "cell_type": "code",
   "execution_count": null,
   "id": "unusual-transmission",
   "metadata": {},
   "outputs": [],
   "source": []
  },
  {
   "cell_type": "markdown",
   "id": "simplified-underground",
   "metadata": {},
   "source": [
    "## T-distribution"
   ]
  },
  {
   "cell_type": "code",
   "execution_count": null,
   "id": "daily-scout",
   "metadata": {},
   "outputs": [],
   "source": []
  },
  {
   "cell_type": "markdown",
   "id": "every-restriction",
   "metadata": {},
   "source": [
    "## Chi-square distribution"
   ]
  },
  {
   "cell_type": "code",
   "execution_count": null,
   "id": "promotional-press",
   "metadata": {},
   "outputs": [],
   "source": []
  },
  {
   "cell_type": "markdown",
   "id": "suspended-glass",
   "metadata": {},
   "source": [
    "## F-distribution"
   ]
  },
  {
   "cell_type": "code",
   "execution_count": null,
   "id": "facial-ecuador",
   "metadata": {},
   "outputs": [],
   "source": []
  }
 ],
 "metadata": {
  "kernelspec": {
   "display_name": "Python 3",
   "language": "python",
   "name": "python3"
  },
  "language_info": {
   "codemirror_mode": {
    "name": "ipython",
    "version": 3
   },
   "file_extension": ".py",
   "mimetype": "text/x-python",
   "name": "python",
   "nbconvert_exporter": "python",
   "pygments_lexer": "ipython3",
   "version": "3.8.5"
  }
 },
 "nbformat": 4,
 "nbformat_minor": 5
}
